{
 "cells": [
  {
   "cell_type": "markdown",
   "id": "ee280087-bd40-4577-b1da-bbf95f3f68c5",
   "metadata": {},
   "source": [
    "# Crypto Currency Neural Network Model\n",
    "### Since we are dealing with prices, accuracy is an important aspect that can't be compromised ; hence, Neural Network provides high accuracy. Especially in a large sequential dataset \n",
    "#### By Group2 Fintastic : \n",
    "#### Bashayer AlAhmadi _ Hissah Alowayyid _ Hadeel Albogami _ Hanan Alfouzan"
   ]
  },
  {
   "cell_type": "code",
   "execution_count": 1,
   "id": "eb590c1a-b71b-4a74-977d-10660ea08464",
   "metadata": {},
   "outputs": [],
   "source": [
    "import numpy as np\n",
    "from matplotlib import pyplot as plt\n",
    "import pandas as pd\n",
    "import pandas_datareader as web\n",
    "import datetime as dt\n",
    "import yfinance as yf\n",
    "from pandas_datareader import data as pdr\n",
    "yf.pdr_override()\n",
    "from keras.utils.vis_utils import plot_model"
   ]
  },
  {
   "cell_type": "code",
   "execution_count": 2,
   "id": "c9eff497-7fc6-4cac-9d9a-85ca8647f5ad",
   "metadata": {},
   "outputs": [],
   "source": [
    "from sklearn.preprocessing import MinMaxScaler\n",
    "from tensorflow.keras.layers import Dense, LSTM, Dropout\n",
    "from tensorflow.keras import Sequential"
   ]
  },
  {
   "cell_type": "markdown",
   "id": "c6fc1fa0-f06b-4ea9-809a-01269086bafa",
   "metadata": {},
   "source": [
    "# Sourcing, Gathering and Exploring Data \n",
    "### Using the date as Index and only the close prices for both BTC and USD"
   ]
  },
  {
   "cell_type": "code",
   "execution_count": 3,
   "id": "958451ea-ba51-42be-8950-ad1a7836ea95",
   "metadata": {},
   "outputs": [
    {
     "data": {
      "text/html": [
       "<div>\n",
       "<style scoped>\n",
       "    .dataframe tbody tr th:only-of-type {\n",
       "        vertical-align: middle;\n",
       "    }\n",
       "\n",
       "    .dataframe tbody tr th {\n",
       "        vertical-align: top;\n",
       "    }\n",
       "\n",
       "    .dataframe thead th {\n",
       "        text-align: right;\n",
       "    }\n",
       "</style>\n",
       "<table border=\"1\" class=\"dataframe\">\n",
       "  <thead>\n",
       "    <tr style=\"text-align: right;\">\n",
       "      <th></th>\n",
       "      <th>Close_BTC</th>\n",
       "      <th>Close_NVDA</th>\n",
       "    </tr>\n",
       "    <tr>\n",
       "      <th>Date</th>\n",
       "      <th></th>\n",
       "      <th></th>\n",
       "    </tr>\n",
       "  </thead>\n",
       "  <tbody>\n",
       "    <tr>\n",
       "      <th>2020-01-02</th>\n",
       "      <td>6985.470215</td>\n",
       "      <td>59.977501</td>\n",
       "    </tr>\n",
       "    <tr>\n",
       "      <th>2020-01-03</th>\n",
       "      <td>7344.884277</td>\n",
       "      <td>59.017502</td>\n",
       "    </tr>\n",
       "    <tr>\n",
       "      <th>2020-01-06</th>\n",
       "      <td>7769.219238</td>\n",
       "      <td>59.264999</td>\n",
       "    </tr>\n",
       "    <tr>\n",
       "      <th>2020-01-07</th>\n",
       "      <td>8163.692383</td>\n",
       "      <td>59.982498</td>\n",
       "    </tr>\n",
       "    <tr>\n",
       "      <th>2020-01-08</th>\n",
       "      <td>8079.862793</td>\n",
       "      <td>60.095001</td>\n",
       "    </tr>\n",
       "    <tr>\n",
       "      <th>...</th>\n",
       "      <td>...</td>\n",
       "      <td>...</td>\n",
       "    </tr>\n",
       "    <tr>\n",
       "      <th>2021-11-24</th>\n",
       "      <td>56280.425781</td>\n",
       "      <td>326.739990</td>\n",
       "    </tr>\n",
       "    <tr>\n",
       "      <th>2021-11-26</th>\n",
       "      <td>53569.765625</td>\n",
       "      <td>315.029999</td>\n",
       "    </tr>\n",
       "    <tr>\n",
       "      <th>2021-11-29</th>\n",
       "      <td>57806.566406</td>\n",
       "      <td>333.760010</td>\n",
       "    </tr>\n",
       "    <tr>\n",
       "      <th>2021-11-30</th>\n",
       "      <td>57005.425781</td>\n",
       "      <td>326.760010</td>\n",
       "    </tr>\n",
       "    <tr>\n",
       "      <th>2021-12-01</th>\n",
       "      <td>57229.828125</td>\n",
       "      <td>314.350006</td>\n",
       "    </tr>\n",
       "  </tbody>\n",
       "</table>\n",
       "<p>480 rows × 2 columns</p>\n",
       "</div>"
      ],
      "text/plain": [
       "               Close_BTC  Close_NVDA\n",
       "Date                                \n",
       "2020-01-02   6985.470215   59.977501\n",
       "2020-01-03   7344.884277   59.017502\n",
       "2020-01-06   7769.219238   59.264999\n",
       "2020-01-07   8163.692383   59.982498\n",
       "2020-01-08   8079.862793   60.095001\n",
       "...                  ...         ...\n",
       "2021-11-24  56280.425781  326.739990\n",
       "2021-11-26  53569.765625  315.029999\n",
       "2021-11-29  57806.566406  333.760010\n",
       "2021-11-30  57005.425781  326.760010\n",
       "2021-12-01  57229.828125  314.350006\n",
       "\n",
       "[480 rows x 2 columns]"
      ]
     },
     "execution_count": 3,
     "metadata": {},
     "output_type": "execute_result"
    }
   ],
   "source": [
    "start = dt.datetime(2020,1,1)\n",
    "end = dt.datetime.now()\n",
    "crypto_currency = 'BTC'\n",
    "against_currency = 'USD'\n",
    "#Bitcoin Data\n",
    "data = web.DataReader(f'{crypto_currency}-{against_currency}', 'yahoo', start, end) \n",
    "data = data[['Close']]\n",
    "data = data.rename(columns = {'Close': 'Close_BTC'})\n",
    "#NVDA Data\n",
    "df_NVDA=  web.DataReader('NVDA', 'yahoo', start, end) \n",
    "df_NVDA = df_NVDA[['Close']]\n",
    "df_NVDA = df_NVDA.rename(columns = {'Close': 'Close_NVDA'})\n",
    "\n",
    "#Merge Table\n",
    "#data = data.merge(data_local_currency, on = 'Date')\n",
    "data = data.merge(df_NVDA, on = 'Date')\n",
    "data\n",
    "test_data=data\n",
    "test_data"
   ]
  },
  {
   "cell_type": "markdown",
   "id": "58ea4b09-6714-43a8-964c-737ded9b24b6",
   "metadata": {},
   "source": [
    "# Building the Model"
   ]
  },
  {
   "cell_type": "code",
   "execution_count": 4,
   "id": "7924e060-c0b0-4aa1-8223-7543abad880c",
   "metadata": {},
   "outputs": [],
   "source": [
    "scaler = MinMaxScaler(feature_range=(0,1))\n",
    "scaled_data = scaler.fit_transform(data.values.reshape(-1,1))  "
   ]
  },
  {
   "cell_type": "code",
   "execution_count": 5,
   "id": "6604a7d5-2e80-4a87-9f61-e568caf3c7f6",
   "metadata": {},
   "outputs": [],
   "source": [
    "prediction_days = 60\n",
    "future_day = 30"
   ]
  },
  {
   "cell_type": "code",
   "execution_count": 6,
   "id": "35f5b37c-77e8-46e6-b956-f6529b60d8d6",
   "metadata": {},
   "outputs": [],
   "source": [
    "x_train, y_train = [], []"
   ]
  },
  {
   "cell_type": "code",
   "execution_count": 7,
   "id": "9e970864-67a4-404b-83c0-63b0a9aba184",
   "metadata": {},
   "outputs": [],
   "source": [
    "#Experimental purposes :\n",
    "#for x in range(prediction_days, len(scaled_data)):\n",
    "#    x_train.append(scaled_data[x-prediction_days:x, 0])\n",
    "#    y_train.append(scaled_data[x, 0])\n",
    "\n",
    "# predicting the 30th day after 60 days\n",
    "for x in range(prediction_days, len(scaled_data)-future_day):\n",
    "    x_train.append(scaled_data[x-prediction_days:x, 0])\n",
    "    y_train.append(scaled_data[x+future_day, 0])\n",
    "x_train, y_train = np.array(x_train), np.array(y_train)\n",
    "x_train = np.reshape(x_train, (x_train.shape[0], x_train.shape[1], 1))"
   ]
  },
  {
   "cell_type": "code",
   "execution_count": null,
   "id": "cf99f7ba-3d49-426e-8d64-73f3d43eabb0",
   "metadata": {},
   "outputs": [
    {
     "name": "stdout",
     "output_type": "stream",
     "text": [
      "Epoch 1/25\n",
      "28/28 [==============================] - 19s 172ms/step - loss: 0.0898\n",
      "Epoch 2/25\n",
      "28/28 [==============================] - 6s 199ms/step - loss: 0.0787\n",
      "Epoch 3/25\n",
      "28/28 [==============================] - 4s 143ms/step - loss: 0.0769\n",
      "Epoch 4/25\n",
      "28/28 [==============================] - 3s 92ms/step - loss: 0.0758\n",
      "Epoch 5/25\n",
      "28/28 [==============================] - 3s 107ms/step - loss: 0.0776\n",
      "Epoch 6/25\n",
      "28/28 [==============================] - 6s 206ms/step - loss: 0.0775\n",
      "Epoch 7/25\n",
      "28/28 [==============================] - 4s 126ms/step - loss: 0.0762\n",
      "Epoch 8/25\n",
      "25/28 [=========================>....] - ETA: 0s - loss: 0.0781"
     ]
    }
   ],
   "source": [
    "#create Neural Network \n",
    "model = Sequential()\n",
    "model.add(LSTM(units=50, return_sequences=True, input_shape=(x_train.shape[1], 1)))\n",
    "model.add(Dropout(0.2))\n",
    "model.add(LSTM(units=50, return_sequences=True))\n",
    "model.add(Dropout(0.2))\n",
    "model.add(LSTM(units=50))\n",
    "model.add(Dropout(0.2))\n",
    "model.add(Dense(units=1))\n",
    "model.compile(optimizer='adam', loss='mean_squared_error')\n",
    "model.fit(x_train, y_train, epochs=25, batch_size=32)"
   ]
  },
  {
   "cell_type": "code",
   "execution_count": null,
   "id": "8ae9a350-b729-43a8-a9d0-005d9027fbe6",
   "metadata": {},
   "outputs": [],
   "source": [
    "print(model.summary())"
   ]
  },
  {
   "cell_type": "code",
   "execution_count": null,
   "id": "969e23ce-f288-44c9-b0d4-5caf329596c9",
   "metadata": {},
   "outputs": [],
   "source": [
    "plot_model(model, to_file='model_plot.png', show_shapes=True, show_layer_names=True)"
   ]
  },
  {
   "cell_type": "markdown",
   "id": "2c2dcbf5-15d5-4216-9747-3befa9eeb9c3",
   "metadata": {},
   "source": [
    "#  Evaluating Model Performance "
   ]
  },
  {
   "cell_type": "code",
   "execution_count": null,
   "id": "f13cd241-bd68-4aef-8a82-334ca87c0ec7",
   "metadata": {},
   "outputs": [],
   "source": [
    "test_start = dt.datetime(2020,1,1)\n",
    "test_end = dt.datetime.now()\n",
    "#test_data = web.DataReader(f'{crypto_currency}-{against_currency}', 'yahoo', test_start, test_end)\n",
    "#test_data= Above defin\n",
    "actual_prices = test_data['Close_BTC'].values\n",
    "total_dataset = pd.concat((data['Close_BTC'], test_data['Close_BTC']), axis=0)\n",
    "model_inputs = total_dataset[len(total_dataset) - len(test_data) - prediction_days:].values\n",
    "model_inputs = model_inputs.reshape(-1, 1)\n",
    "model_inputs = scaler.fit_transform(model_inputs)\n",
    "x_test = []\n",
    "\n",
    "for x in range(prediction_days, len(model_inputs)):\n",
    "    x_test.append(model_inputs[x-prediction_days:x, 0])\n",
    "\n",
    "x_test = np.array(x_test)\n",
    "x_test = np.reshape(x_test, (x_test.shape[0], x_test.shape[1], 1))\n",
    "prediction_prices = model.predict(x_test)\n",
    "prediction_prices = scaler.inverse_transform(prediction_prices)\n",
    "\n",
    "fig, ax1 = plt.subplots()\n",
    "\n",
    "ax1.plot(prediction_prices, color='blue', label='Predicted Prices')\n",
    "ax2 = ax1.twinx() \n",
    "ax2.plot(df_NVDA['Close_NVDA'].values, color='green', label='Prices')\n",
    "ax3 = ax2.twinx()\n",
    "#ax3.plot(actual_prices, color='black', label='Actual Prices')\n",
    "fig.tight_layout()\n",
    "plt.show()\n"
   ]
  }
 ],
 "metadata": {
  "kernelspec": {
   "display_name": "Python 3",
   "language": "python",
   "name": "python3"
  },
  "language_info": {
   "codemirror_mode": {
    "name": "ipython",
    "version": 3
   },
   "file_extension": ".py",
   "mimetype": "text/x-python",
   "name": "python",
   "nbconvert_exporter": "python",
   "pygments_lexer": "ipython3",
   "version": "3.8.8"
  }
 },
 "nbformat": 4,
 "nbformat_minor": 5
}
