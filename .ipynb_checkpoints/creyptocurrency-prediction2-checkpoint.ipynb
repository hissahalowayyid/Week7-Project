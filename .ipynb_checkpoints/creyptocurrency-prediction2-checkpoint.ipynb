{
 "cells": [
  {
   "cell_type": "code",
   "execution_count": 1,
   "id": "a69b01d9-f400-4036-bdf8-fbb6b0b8863f",
   "metadata": {},
   "outputs": [],
   "source": [
    "import numpy as np\n",
    "from matplotlib import pyplot as plt\n",
    "import pandas as pd\n",
    "import pandas_datareader as web\n",
    "import datetime as dt\n",
    "import yfinance as yf\n",
    "from pandas_datareader import data as pdr\n",
    "yf.pdr_override()"
   ]
  },
  {
   "cell_type": "code",
   "execution_count": 2,
   "id": "c9eff497-7fc6-4cac-9d9a-85ca8647f5ad",
   "metadata": {},
   "outputs": [],
   "source": [
    "from sklearn.preprocessing import MinMaxScaler\n",
    "from tensorflow.keras.layers import Dense, LSTM, Dropout\n",
    "from tensorflow.keras import Sequential"
   ]
  },
  {
   "cell_type": "code",
   "execution_count": 3,
   "id": "958451ea-ba51-42be-8950-ad1a7836ea95",
   "metadata": {},
   "outputs": [
    {
     "data": {
      "text/html": [
       "<div>\n",
       "<style scoped>\n",
       "    .dataframe tbody tr th:only-of-type {\n",
       "        vertical-align: middle;\n",
       "    }\n",
       "\n",
       "    .dataframe tbody tr th {\n",
       "        vertical-align: top;\n",
       "    }\n",
       "\n",
       "    .dataframe thead th {\n",
       "        text-align: right;\n",
       "    }\n",
       "</style>\n",
       "<table border=\"1\" class=\"dataframe\">\n",
       "  <thead>\n",
       "    <tr style=\"text-align: right;\">\n",
       "      <th></th>\n",
       "      <th>Close_BTC</th>\n",
       "      <th>Close_NVDA</th>\n",
       "    </tr>\n",
       "    <tr>\n",
       "      <th>Date</th>\n",
       "      <th></th>\n",
       "      <th></th>\n",
       "    </tr>\n",
       "  </thead>\n",
       "  <tbody>\n",
       "    <tr>\n",
       "      <th>2020-01-02</th>\n",
       "      <td>6985.470215</td>\n",
       "      <td>59.977501</td>\n",
       "    </tr>\n",
       "    <tr>\n",
       "      <th>2020-01-03</th>\n",
       "      <td>7344.884277</td>\n",
       "      <td>59.017502</td>\n",
       "    </tr>\n",
       "    <tr>\n",
       "      <th>2020-01-06</th>\n",
       "      <td>7769.219238</td>\n",
       "      <td>59.264999</td>\n",
       "    </tr>\n",
       "    <tr>\n",
       "      <th>2020-01-07</th>\n",
       "      <td>8163.692383</td>\n",
       "      <td>59.982498</td>\n",
       "    </tr>\n",
       "    <tr>\n",
       "      <th>2020-01-08</th>\n",
       "      <td>8079.862793</td>\n",
       "      <td>60.095001</td>\n",
       "    </tr>\n",
       "    <tr>\n",
       "      <th>...</th>\n",
       "      <td>...</td>\n",
       "      <td>...</td>\n",
       "    </tr>\n",
       "    <tr>\n",
       "      <th>2021-11-19</th>\n",
       "      <td>58119.578125</td>\n",
       "      <td>329.850006</td>\n",
       "    </tr>\n",
       "    <tr>\n",
       "      <th>2021-11-22</th>\n",
       "      <td>56289.289062</td>\n",
       "      <td>319.559998</td>\n",
       "    </tr>\n",
       "    <tr>\n",
       "      <th>2021-11-23</th>\n",
       "      <td>57569.074219</td>\n",
       "      <td>317.459991</td>\n",
       "    </tr>\n",
       "    <tr>\n",
       "      <th>2021-11-24</th>\n",
       "      <td>56280.425781</td>\n",
       "      <td>326.739990</td>\n",
       "    </tr>\n",
       "    <tr>\n",
       "      <th>2021-11-26</th>\n",
       "      <td>53569.765625</td>\n",
       "      <td>315.029999</td>\n",
       "    </tr>\n",
       "  </tbody>\n",
       "</table>\n",
       "<p>477 rows × 2 columns</p>\n",
       "</div>"
      ],
      "text/plain": [
       "               Close_BTC  Close_NVDA\n",
       "Date                                \n",
       "2020-01-02   6985.470215   59.977501\n",
       "2020-01-03   7344.884277   59.017502\n",
       "2020-01-06   7769.219238   59.264999\n",
       "2020-01-07   8163.692383   59.982498\n",
       "2020-01-08   8079.862793   60.095001\n",
       "...                  ...         ...\n",
       "2021-11-19  58119.578125  329.850006\n",
       "2021-11-22  56289.289062  319.559998\n",
       "2021-11-23  57569.074219  317.459991\n",
       "2021-11-24  56280.425781  326.739990\n",
       "2021-11-26  53569.765625  315.029999\n",
       "\n",
       "[477 rows x 2 columns]"
      ]
     },
     "execution_count": 3,
     "metadata": {},
     "output_type": "execute_result"
    }
   ],
   "source": [
    "start = dt.datetime(2020,1,1)\n",
    "end = dt.datetime.now()\n",
    "crypto_currency = 'BTC'\n",
    "against_currency = 'USD'\n",
    "#local_currency= 'SAR=X'\n",
    "# SAR DATA\n",
    "#data_local_currency = web.DataReader(local_currency, 'yahoo', start, end) \n",
    "#data_local_currency = data_local_currency[['Close']]\n",
    "#data_local_currency = data_local_currency.rename(columns = {'Close': 'Close_SAR'})\n",
    "#Bitcoin Data\n",
    "data = web.DataReader(f'{crypto_currency}-{against_currency}', 'yahoo', start, end) \n",
    "data = data[['Close']]\n",
    "data = data.rename(columns = {'Close': 'Close_BTC'})\n",
    "#NVDA Data\n",
    "df_NVDA=  web.DataReader('NVDA', 'yahoo', start, end) \n",
    "df_NVDA = df_NVDA[['Close']]\n",
    "df_NVDA = df_NVDA.rename(columns = {'Close': 'Close_NVDA'})\n",
    "\n",
    "#Merge Table\n",
    "#data = data.merge(data_local_currency, on = 'Date')\n",
    "data = data.merge(df_NVDA, on = 'Date')\n",
    "data\n",
    "test_data=data\n",
    "test_data"
   ]
  },
  {
   "cell_type": "code",
   "execution_count": 4,
   "id": "7924e060-c0b0-4aa1-8223-7543abad880c",
   "metadata": {},
   "outputs": [],
   "source": [
    "scaler = MinMaxScaler(feature_range=(0,1))\n",
    "#x=data[['Close_x','Close_y']]\n",
    "#data_local_currency= data_local_currency['Close']\n",
    "#x = x.merge(data_local_currency, on = 'Date') \n",
    "scaled_data = scaler.fit_transform(data.values.reshape(-1,1))  \n"
   ]
  },
  {
   "cell_type": "code",
   "execution_count": 5,
   "id": "6604a7d5-2e80-4a87-9f61-e568caf3c7f6",
   "metadata": {},
   "outputs": [],
   "source": [
    "prediction_days = 60\n",
    "future_day = 30"
   ]
  },
  {
   "cell_type": "code",
   "execution_count": 6,
   "id": "35f5b37c-77e8-46e6-b956-f6529b60d8d6",
   "metadata": {},
   "outputs": [],
   "source": [
    "x_train, y_train = [], []"
   ]
  },
  {
   "cell_type": "code",
   "execution_count": 7,
   "id": "9e970864-67a4-404b-83c0-63b0a9aba184",
   "metadata": {},
   "outputs": [],
   "source": [
    "#for x in range(prediction_days, len(scaled_data)): day61\n",
    "#    x_train.append(scaled_data[x-prediction_days:x, 0])\n",
    "#    y_train.append(scaled_data[x, 0])\n",
    "\n",
    "#predicting the 30th day after 60 days day90 \n",
    "for x in range(prediction_days, len(scaled_data)-future_day):\n",
    "    x_train.append(scaled_data[x-prediction_days:x, 0])\n",
    "    y_train.append(scaled_data[x+future_day, 0])\n",
    "x_train, y_train = np.array(x_train), np.array(y_train)\n",
    "x_train = np.reshape(x_train, (x_train.shape[0], x_train.shape[1], 1))"
   ]
  },
  {
   "cell_type": "code",
   "execution_count": 8,
   "id": "cf99f7ba-3d49-426e-8d64-73f3d43eabb0",
   "metadata": {},
   "outputs": [
    {
     "name": "stdout",
     "output_type": "stream",
     "text": [
      "Epoch 1/25\n",
      "27/27 [==============================] - 8s 70ms/step - loss: 0.0838\n",
      "Epoch 2/25\n",
      "27/27 [==============================] - 2s 67ms/step - loss: 0.0813\n",
      "Epoch 3/25\n",
      "27/27 [==============================] - 2s 71ms/step - loss: 0.0778\n",
      "Epoch 4/25\n",
      "27/27 [==============================] - 2s 70ms/step - loss: 0.0775\n",
      "Epoch 5/25\n",
      "27/27 [==============================] - 2s 68ms/step - loss: 0.0771\n",
      "Epoch 6/25\n",
      "27/27 [==============================] - 2s 65ms/step - loss: 0.0751\n",
      "Epoch 7/25\n",
      "27/27 [==============================] - 2s 68ms/step - loss: 0.0757\n",
      "Epoch 8/25\n",
      "27/27 [==============================] - 2s 75ms/step - loss: 0.0767\n",
      "Epoch 9/25\n",
      "27/27 [==============================] - 2s 69ms/step - loss: 0.0763\n",
      "Epoch 10/25\n",
      "27/27 [==============================] - 2s 68ms/step - loss: 0.0746\n",
      "Epoch 11/25\n",
      "27/27 [==============================] - 2s 64ms/step - loss: 0.0757\n",
      "Epoch 12/25\n",
      "27/27 [==============================] - 2s 64ms/step - loss: 0.0748\n",
      "Epoch 13/25\n",
      "27/27 [==============================] - 2s 65ms/step - loss: 0.0743\n",
      "Epoch 14/25\n",
      "27/27 [==============================] - 2s 64ms/step - loss: 0.0761\n",
      "Epoch 15/25\n",
      "27/27 [==============================] - 2s 64ms/step - loss: 0.0751\n",
      "Epoch 16/25\n",
      "27/27 [==============================] - 2s 64ms/step - loss: 0.0755\n",
      "Epoch 17/25\n",
      "27/27 [==============================] - 2s 64ms/step - loss: 0.0761\n",
      "Epoch 18/25\n",
      "27/27 [==============================] - 2s 64ms/step - loss: 0.0762\n",
      "Epoch 19/25\n",
      "27/27 [==============================] - 2s 65ms/step - loss: 0.0742\n",
      "Epoch 20/25\n",
      "27/27 [==============================] - 2s 66ms/step - loss: 0.0731\n",
      "Epoch 21/25\n",
      "27/27 [==============================] - 2s 71ms/step - loss: 0.0765\n",
      "Epoch 22/25\n",
      "27/27 [==============================] - 2s 68ms/step - loss: 0.0746\n",
      "Epoch 23/25\n",
      "27/27 [==============================] - 2s 65ms/step - loss: 0.0745\n",
      "Epoch 24/25\n",
      "27/27 [==============================] - 2s 65ms/step - loss: 0.0745\n",
      "Epoch 25/25\n",
      "27/27 [==============================] - 2s 65ms/step - loss: 0.0745\n"
     ]
    },
    {
     "data": {
      "text/plain": [
       "<keras.callbacks.History at 0x1498cda60>"
      ]
     },
     "execution_count": 8,
     "metadata": {},
     "output_type": "execute_result"
    }
   ],
   "source": [
    "#create Neural Network \n",
    "model = Sequential()\n",
    "model.add(LSTM(units=50, return_sequences=True, input_shape=(x_train.shape[1], 1)))\n",
    "model.add(Dropout(0.2))\n",
    "model.add(LSTM(units=50, return_sequences=True))\n",
    "model.add(Dropout(0.2))\n",
    "model.add(LSTM(units=50))\n",
    "model.add(Dropout(0.2))\n",
    "model.add(Dense(units=1))\n",
    "model.compile(optimizer='adam', loss='mean_squared_error')\n",
    "model.fit(x_train, y_train, epochs=25, batch_size=32)"
   ]
  },
  {
   "cell_type": "code",
   "execution_count": 9,
   "id": "5ab2a331-d6ae-4db5-a944-4224f5a7213e",
   "metadata": {},
   "outputs": [],
   "source": [
    "#test_data['Close_NVDA']"
   ]
  },
  {
   "cell_type": "code",
   "execution_count": 44,
   "id": "f13cd241-bd68-4aef-8a82-334ca87c0ec7",
   "metadata": {},
   "outputs": [
    {
     "name": "stderr",
     "output_type": "stream",
     "text": [
      "No handles with labels found to put in legend.\n"
     ]
    },
    {
     "data": {
      "image/png": "[encoded data removed]",
      "text/plain": [
       "<Figure size 432x288 with 2 Axes>"
      ]
     },
     "metadata": {
      "needs_background": "light"
     },
     "output_type": "display_data"
    }
   ],
   "source": [
    "test_start = dt.datetime(2020,1,1)\n",
    "test_end = dt.datetime.now()\n",
    "#test_data = web.DataReader(f'{crypto_currency}-{against_currency}', 'yahoo', test_start, test_end)\n",
    "#test_data= Above defin\n",
    "actual_prices = test_data['Close_BTC'].values\n",
    "total_dataset = pd.concat((data['Close_BTC'], test_data['Close_BTC']), axis=0)\n",
    "model_inputs = total_dataset[len(total_dataset) - len(test_data) - prediction_days:].values\n",
    "model_inputs = model_inputs.reshape(-1, 1)\n",
    "model_inputs = scaler.fit_transform(model_inputs)\n",
    "x_test = []\n",
    "\n",
    "for x in range(prediction_days, len(model_inputs)):\n",
    "    x_test.append(model_inputs[x-prediction_days:x, 0])\n",
    "\n",
    "x_test = np.array(x_test)\n",
    "x_test = np.reshape(x_test, (x_test.shape[0], x_test.shape[1], 1))\n",
    "prediction_prices = model.predict(x_test)\n",
    "prediction_prices = scaler.inverse_transform(prediction_prices)\n",
    "\n",
    "#plt.plot(actual_prices, color='black', label='Actual Prices')\n",
    "fig, ax1 = plt.subplots()\n",
    "ax1.plot(prediction_prices, color='black')\n",
    "#ax1.tick_params(axis='y', label='Predicted Prices')\n",
    "ax2 = ax1.twinx()\n",
    "ax2.plot(test_data['Close_NVDA'].values, color='red')\n",
    "#ax2.tick_params(axis='y', label='Prices')\n",
    "\n",
    "#plt.show\n",
    "\n",
    "#fig, ax1 = plt.subplots()\n",
    "\n",
    "# color = 'tab:red'\n",
    "# ax1.plot(prediction_prices, color='black', label='Predicted Prices')\n",
    "#ax1.tick_params(axis='y', labelcolor='black')\n",
    "# ax2 = ax1.twinx()  # instantiate a second axes that shares the same x-axis\n",
    "\n",
    "# # #color = 'tab:blue'\n",
    "# # #ax2.set_ylabel('Prices', color='black')  # we already handled the x-label with ax1\n",
    "# ax2.plot(test_data['Close_NVDA'].values, color='red', label='Prices')\n",
    "# #ax2.tick_params(axis='y', labelcolor=color)\n",
    "\n",
    "# ax3 = ax2.twinx()\n",
    "# #color = 'tab:blue'\n",
    "# ax3.plot(actual_prices, color='green', label='Actual Prices')\n",
    "# #ax3.tick_params(axis='y', labelcolor=color)\n",
    "\n",
    "# #ax4 = ax3.twinx()\n",
    "# #ax4.set_ylabel('Prices', color='blue')  # we already handled the x-label with ax1\n",
    "# #ax4.plot(data_local_currency['Close_SAR'].values, color='blue', label='Prices')\n",
    "# #ax4.tick_params(axis='y', labelcolor=color)\n",
    "\n",
    "# fig.tight_layout()  # otherwise the right y-label is slightly clipped\n",
    "plt.title(f'{crypto_currency} price prediction')\n",
    "#plt.xlabel('Time')\n",
    "#plt.ylabel('Price')\n",
    "#plt.ylabel('prePrice')\n",
    "plt.legend(loc='upper left')\n",
    "plt.show()"
   ]
  },
  {
   "cell_type": "code",
   "execution_count": 11,
   "id": "5c0f7030-c82f-485e-9647-fb292fa74b24",
   "metadata": {},
   "outputs": [],
   "source": [
    "#plt.plot(test_data['Close_NVDA'].values, color='red', label='Prices')"
   ]
  },
  {
   "cell_type": "code",
   "execution_count": 12,
   "id": "7b198ddf-bf86-495a-9891-6f85b094d86f",
   "metadata": {},
   "outputs": [],
   "source": [
    "# Predict next day 25nov\n",
    "# real_data = [model_inputs[len(model_inputs) - prediction_days:len(model_inputs) + 1, 0]]\n",
    "# real_data = np.array(real_data)\n",
    "# real_data = np.reshape(real_data, (real_data.shape[0], real_data.shape[1], 1))\n",
    "# prediction = model.predict(real_data)\n",
    "# prediction = scaler.inverse_transform(prediction)"
   ]
  },
  {
   "cell_type": "code",
   "execution_count": 13,
   "id": "6703636e-b839-4e4c-a3cf-549bce00c6bb",
   "metadata": {},
   "outputs": [],
   "source": [
    "#plt.plot(real_data[0].values, color='black', label='Actual Prices')\n",
    "#plt.plot(prediction, color='green', label='Predicted Prices')\n",
    "\n",
    "#plt.title(f'{crypto_currency} price prediction')\n",
    "#plt.xlabel('Time')\n",
    "#plt.ylabel('Price')\n",
    "#plt.legend(loc='upper left')\n",
    "#plt.show"
   ]
  },
  {
   "cell_type": "code",
   "execution_count": 14,
   "id": "da739d37-7ff5-4357-9734-98a93b1f987e",
   "metadata": {},
   "outputs": [],
   "source": [
    "#fig, ax1 = plt.subplots()\n",
    "\n",
    "# color = 'tab:red'\n",
    "# ax1.plot(prediction[0], color='black', label='Predicted Prices')\n",
    "# ax1.tick_params(axis='y', labelcolor='black')\n",
    "\n",
    "# ax2 = ax1.twinx()  # instantiate a second axes that shares the same x-axis\n",
    "\n",
    "# # color = 'tab:blue'\n",
    "# ax2.set_ylabel('real_data', color='black')  # we already handled the x-label with ax1\n",
    "# ax2.plot(real_data[0], color='red', label='Prices')\n",
    "# ax2.tick_params(axis='y', labelcolor=color)\n",
    "\n",
    "# fig.tight_layout()  # otherwise the right y-label is slightly clipped\n",
    "# plt.show()"
   ]
  },
  {
   "cell_type": "code",
   "execution_count": null,
   "id": "0439bf34-c3fa-4752-b8e0-06a6f15c95b8",
   "metadata": {},
   "outputs": [],
   "source": []
  }
 ],
 "metadata": {
  "kernelspec": {
   "display_name": "Python 3",
   "language": "python",
   "name": "python3"
  },
  "language_info": {
   "codemirror_mode": {
    "name": "ipython",
    "version": 3
   },
   "file_extension": ".py",
   "mimetype": "text/x-python",
   "name": "python",
   "nbconvert_exporter": "python",
   "pygments_lexer": "ipython3",
   "version": "3.8.8"
  }
 },
 "nbformat": 4,
 "nbformat_minor": 5
}
