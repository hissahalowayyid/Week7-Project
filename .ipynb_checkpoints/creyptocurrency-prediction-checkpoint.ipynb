{
 "cells": [
  {
   "cell_type": "code",
   "execution_count": 1,
   "id": "a69b01d9-f400-4036-bdf8-fbb6b0b8863f",
   "metadata": {},
   "outputs": [],
   "source": [
    "import numpy as np\n",
    "from matplotlib import pyplot as plt\n",
    "import pandas as pd\n",
    "import pandas_datareader as web\n",
    "import datetime as dt\n",
    "import yfinance as yf\n",
    "from pandas_datareader import data as pdr\n",
    "yf.pdr_override()\n",
    "import pydot\n",
    "from keras.utils.vis_utils import plot_model"
   ]
  },
  {
   "cell_type": "code",
   "execution_count": 2,
   "id": "c9eff497-7fc6-4cac-9d9a-85ca8647f5ad",
   "metadata": {},
   "outputs": [],
   "source": [
    "from sklearn.preprocessing import MinMaxScaler\n",
    "from tensorflow.keras.layers import Dense, LSTM, Dropout\n",
    "from tensorflow.keras import Sequential"
   ]
  },
  {
   "cell_type": "code",
   "execution_count": 3,
   "id": "958451ea-ba51-42be-8950-ad1a7836ea95",
   "metadata": {},
   "outputs": [
    {
     "data": {
      "text/html": [
       "<div>\n",
       "<style scoped>\n",
       "    .dataframe tbody tr th:only-of-type {\n",
       "        vertical-align: middle;\n",
       "    }\n",
       "\n",
       "    .dataframe tbody tr th {\n",
       "        vertical-align: top;\n",
       "    }\n",
       "\n",
       "    .dataframe thead th {\n",
       "        text-align: right;\n",
       "    }\n",
       "</style>\n",
       "<table border=\"1\" class=\"dataframe\">\n",
       "  <thead>\n",
       "    <tr style=\"text-align: right;\">\n",
       "      <th></th>\n",
       "      <th>High</th>\n",
       "      <th>Low</th>\n",
       "      <th>Open</th>\n",
       "      <th>Close</th>\n",
       "      <th>Volume</th>\n",
       "      <th>Adj Close</th>\n",
       "    </tr>\n",
       "    <tr>\n",
       "      <th>Date</th>\n",
       "      <th></th>\n",
       "      <th></th>\n",
       "      <th></th>\n",
       "      <th></th>\n",
       "      <th></th>\n",
       "      <th></th>\n",
       "    </tr>\n",
       "  </thead>\n",
       "  <tbody>\n",
       "    <tr>\n",
       "      <th>2020-01-01</th>\n",
       "      <td>7254.330566</td>\n",
       "      <td>7174.944336</td>\n",
       "      <td>7194.892090</td>\n",
       "      <td>7200.174316</td>\n",
       "      <td>1.856566e+10</td>\n",
       "      <td>7200.174316</td>\n",
       "    </tr>\n",
       "    <tr>\n",
       "      <th>2020-01-02</th>\n",
       "      <td>7212.155273</td>\n",
       "      <td>6935.270020</td>\n",
       "      <td>7202.551270</td>\n",
       "      <td>6985.470215</td>\n",
       "      <td>2.080208e+10</td>\n",
       "      <td>6985.470215</td>\n",
       "    </tr>\n",
       "    <tr>\n",
       "      <th>2020-01-03</th>\n",
       "      <td>7413.715332</td>\n",
       "      <td>6914.996094</td>\n",
       "      <td>6984.428711</td>\n",
       "      <td>7344.884277</td>\n",
       "      <td>2.811148e+10</td>\n",
       "      <td>7344.884277</td>\n",
       "    </tr>\n",
       "    <tr>\n",
       "      <th>2020-01-04</th>\n",
       "      <td>7427.385742</td>\n",
       "      <td>7309.514160</td>\n",
       "      <td>7345.375488</td>\n",
       "      <td>7410.656738</td>\n",
       "      <td>1.844427e+10</td>\n",
       "      <td>7410.656738</td>\n",
       "    </tr>\n",
       "    <tr>\n",
       "      <th>2020-01-05</th>\n",
       "      <td>7544.497070</td>\n",
       "      <td>7400.535645</td>\n",
       "      <td>7410.451660</td>\n",
       "      <td>7411.317383</td>\n",
       "      <td>1.972507e+10</td>\n",
       "      <td>7411.317383</td>\n",
       "    </tr>\n",
       "    <tr>\n",
       "      <th>...</th>\n",
       "      <td>...</td>\n",
       "      <td>...</td>\n",
       "      <td>...</td>\n",
       "      <td>...</td>\n",
       "      <td>...</td>\n",
       "      <td>...</td>\n",
       "    </tr>\n",
       "    <tr>\n",
       "      <th>2021-11-25</th>\n",
       "      <td>59367.968750</td>\n",
       "      <td>57146.683594</td>\n",
       "      <td>57165.417969</td>\n",
       "      <td>57274.679688</td>\n",
       "      <td>3.428402e+10</td>\n",
       "      <td>57274.679688</td>\n",
       "    </tr>\n",
       "    <tr>\n",
       "      <th>2021-11-26</th>\n",
       "      <td>59183.480469</td>\n",
       "      <td>53569.765625</td>\n",
       "      <td>58960.285156</td>\n",
       "      <td>53569.765625</td>\n",
       "      <td>4.181075e+10</td>\n",
       "      <td>53569.765625</td>\n",
       "    </tr>\n",
       "    <tr>\n",
       "      <th>2021-11-27</th>\n",
       "      <td>55329.257812</td>\n",
       "      <td>53668.355469</td>\n",
       "      <td>53736.429688</td>\n",
       "      <td>54815.078125</td>\n",
       "      <td>3.056086e+10</td>\n",
       "      <td>54815.078125</td>\n",
       "    </tr>\n",
       "    <tr>\n",
       "      <th>2021-11-28</th>\n",
       "      <td>57393.843750</td>\n",
       "      <td>53576.734375</td>\n",
       "      <td>54813.023438</td>\n",
       "      <td>57248.457031</td>\n",
       "      <td>2.811689e+10</td>\n",
       "      <td>57248.457031</td>\n",
       "    </tr>\n",
       "    <tr>\n",
       "      <th>2021-11-29</th>\n",
       "      <td>58006.539062</td>\n",
       "      <td>56856.371094</td>\n",
       "      <td>57474.843750</td>\n",
       "      <td>57331.582031</td>\n",
       "      <td>3.168713e+10</td>\n",
       "      <td>57331.582031</td>\n",
       "    </tr>\n",
       "  </tbody>\n",
       "</table>\n",
       "<p>695 rows × 6 columns</p>\n",
       "</div>"
      ],
      "text/plain": [
       "                    High           Low          Open         Close  \\\n",
       "Date                                                                 \n",
       "2020-01-01   7254.330566   7174.944336   7194.892090   7200.174316   \n",
       "2020-01-02   7212.155273   6935.270020   7202.551270   6985.470215   \n",
       "2020-01-03   7413.715332   6914.996094   6984.428711   7344.884277   \n",
       "2020-01-04   7427.385742   7309.514160   7345.375488   7410.656738   \n",
       "2020-01-05   7544.497070   7400.535645   7410.451660   7411.317383   \n",
       "...                  ...           ...           ...           ...   \n",
       "2021-11-25  59367.968750  57146.683594  57165.417969  57274.679688   \n",
       "2021-11-26  59183.480469  53569.765625  58960.285156  53569.765625   \n",
       "2021-11-27  55329.257812  53668.355469  53736.429688  54815.078125   \n",
       "2021-11-28  57393.843750  53576.734375  54813.023438  57248.457031   \n",
       "2021-11-29  58006.539062  56856.371094  57474.843750  57331.582031   \n",
       "\n",
       "                  Volume     Adj Close  \n",
       "Date                                    \n",
       "2020-01-01  1.856566e+10   7200.174316  \n",
       "2020-01-02  2.080208e+10   6985.470215  \n",
       "2020-01-03  2.811148e+10   7344.884277  \n",
       "2020-01-04  1.844427e+10   7410.656738  \n",
       "2020-01-05  1.972507e+10   7411.317383  \n",
       "...                  ...           ...  \n",
       "2021-11-25  3.428402e+10  57274.679688  \n",
       "2021-11-26  4.181075e+10  53569.765625  \n",
       "2021-11-27  3.056086e+10  54815.078125  \n",
       "2021-11-28  2.811689e+10  57248.457031  \n",
       "2021-11-29  3.168713e+10  57331.582031  \n",
       "\n",
       "[695 rows x 6 columns]"
      ]
     },
     "execution_count": 3,
     "metadata": {},
     "output_type": "execute_result"
    }
   ],
   "source": [
    "start = dt.datetime(2020,1,1)\n",
    "end = dt.datetime.now()\n",
    "crypto_currency = 'BTC'\n",
    "against_currency = 'USD'\n",
    "data = web.DataReader(f'{crypto_currency}-{against_currency}', 'yahoo', start, end)\n",
    "df_NVDA=  web.DataReader('NVDA', 'yahoo', start, end) \n",
    "df_NVDA = df_NVDA[['Close']]\n",
    "df_NVDA = df_NVDA.rename(columns = {'Close': 'Close_NVDA'})\n",
    "data"
   ]
  },
  {
   "cell_type": "code",
   "execution_count": 4,
   "id": "749b591f-9b12-40cd-ac79-44fce67c23f8",
   "metadata": {},
   "outputs": [],
   "source": [
    "#df1 = web.DataReader('BTC', 'yahoo', start, end)\n",
    "#df1 = df1[['Close']]\n",
    "#df2 = web.DataReader('USD', 'yahoo', start, end)\n",
    "#df2 = df2[['Close']]\n",
    "#df = df1.merge(df2, on = 'Date')\n",
    "#df\n",
    "#df1 = pdr.get_data_yahoo('BTC', '2020-01-01', '2021-10-31')\n",
    "#df1 = df1[['Close']]\n",
    "#df2 = pdr.get_data_yahoo('USD', '2020-01-01', '2021-10-31')\n",
    "#df2 = df2[['Close']]\n",
    "#df = df1.merge(df2, on = 'Date')"
   ]
  },
  {
   "cell_type": "code",
   "execution_count": 5,
   "id": "7924e060-c0b0-4aa1-8223-7543abad880c",
   "metadata": {},
   "outputs": [],
   "source": [
    "scaler = MinMaxScaler(feature_range=(0,1))\n",
    "scaled_data = scaler.fit_transform(data['Close'].values.reshape(-1,1))"
   ]
  },
  {
   "cell_type": "code",
   "execution_count": 6,
   "id": "6604a7d5-2e80-4a87-9f61-e568caf3c7f6",
   "metadata": {},
   "outputs": [],
   "source": [
    "prediction_days = 60\n",
    "future_day = 30"
   ]
  },
  {
   "cell_type": "code",
   "execution_count": 7,
   "id": "35f5b37c-77e8-46e6-b956-f6529b60d8d6",
   "metadata": {},
   "outputs": [],
   "source": [
    "x_train, y_train = [], []"
   ]
  },
  {
   "cell_type": "code",
   "execution_count": 8,
   "id": "9e970864-67a4-404b-83c0-63b0a9aba184",
   "metadata": {},
   "outputs": [],
   "source": [
    "#predicting one day after the 60days historical data\n",
    "for x in range(prediction_days, len(scaled_data)):\n",
    "    x_train.append(scaled_data[x-prediction_days:x, 0])\n",
    "    y_train.append(scaled_data[x, 0])\n",
    "x_train, y_train = np.array(x_train), np.array(y_train)\n",
    "x_train = np.reshape(x_train, (x_train.shape[0], x_train.shape[1], 1))\n",
    "# predicting the 30th day after 60 days\n",
    "# for x in range(prediction_days, len(scaled_data)-future_day):\n",
    "#     x_train.append(scaled_data[x-prediction_days:x, 0])\n",
    "#     y_train.append(scaled_data[x+future_day, 0])\n",
    "# x_train, y_train = np.array(x_train), np.array(y_train)\n",
    "# x_train = np.reshape(x_train, (x_train.shape[0], x_train.shape[1], 1))"
   ]
  },
  {
   "cell_type": "code",
   "execution_count": 9,
   "id": "cf99f7ba-3d49-426e-8d64-73f3d43eabb0",
   "metadata": {},
   "outputs": [
    {
     "name": "stdout",
     "output_type": "stream",
     "text": [
      "Epoch 1/25\n",
      "20/20 [==============================] - 9s 100ms/step - loss: 0.0591\n",
      "Epoch 2/25\n",
      "20/20 [==============================] - 2s 98ms/step - loss: 0.0117\n",
      "Epoch 3/25\n",
      "20/20 [==============================] - 2s 100ms/step - loss: 0.0078\n",
      "Epoch 4/25\n",
      "20/20 [==============================] - 2s 95ms/step - loss: 0.0070\n",
      "Epoch 5/25\n",
      "20/20 [==============================] - 2s 85ms/step - loss: 0.0065\n",
      "Epoch 6/25\n",
      "20/20 [==============================] - 2s 86ms/step - loss: 0.0066\n",
      "Epoch 7/25\n",
      "20/20 [==============================] - 2s 91ms/step - loss: 0.0069\n",
      "Epoch 8/25\n",
      "20/20 [==============================] - 2s 106ms/step - loss: 0.0058\n",
      "Epoch 9/25\n",
      "20/20 [==============================] - 2s 105ms/step - loss: 0.0059\n",
      "Epoch 10/25\n",
      "20/20 [==============================] - 2s 93ms/step - loss: 0.0052\n",
      "Epoch 11/25\n",
      "20/20 [==============================] - 2s 83ms/step - loss: 0.0052\n",
      "Epoch 12/25\n",
      "20/20 [==============================] - 2s 87ms/step - loss: 0.0049\n",
      "Epoch 13/25\n",
      "20/20 [==============================] - 2s 89ms/step - loss: 0.0050\n",
      "Epoch 14/25\n",
      "20/20 [==============================] - 2s 83ms/step - loss: 0.0058\n",
      "Epoch 15/25\n",
      "20/20 [==============================] - 2s 82ms/step - loss: 0.0055\n",
      "Epoch 16/25\n",
      "20/20 [==============================] - 2s 91ms/step - loss: 0.0059\n",
      "Epoch 17/25\n",
      "20/20 [==============================] - 2s 100ms/step - loss: 0.0047\n",
      "Epoch 18/25\n",
      "20/20 [==============================] - 2s 82ms/step - loss: 0.0045\n",
      "Epoch 19/25\n",
      "20/20 [==============================] - 2s 82ms/step - loss: 0.0042\n",
      "Epoch 20/25\n",
      "20/20 [==============================] - 2s 90ms/step - loss: 0.0039\n",
      "Epoch 21/25\n",
      "20/20 [==============================] - 2s 91ms/step - loss: 0.0042\n",
      "Epoch 22/25\n",
      "20/20 [==============================] - 2s 80ms/step - loss: 0.0047\n",
      "Epoch 23/25\n",
      "20/20 [==============================] - 2s 83ms/step - loss: 0.0038\n",
      "Epoch 24/25\n",
      "20/20 [==============================] - 2s 83ms/step - loss: 0.0037\n",
      "Epoch 25/25\n",
      "20/20 [==============================] - 2s 100ms/step - loss: 0.0037\n"
     ]
    },
    {
     "data": {
      "text/plain": [
       "<keras.callbacks.History at 0x144f58f70>"
      ]
     },
     "execution_count": 9,
     "metadata": {},
     "output_type": "execute_result"
    }
   ],
   "source": [
    "#create Neural Network \n",
    "model = Sequential()\n",
    "model.add(LSTM(units=50, return_sequences=True, input_shape=(x_train.shape[1], 1)))\n",
    "model.add(Dropout(0.2))\n",
    "model.add(LSTM(units=50, return_sequences=True))\n",
    "model.add(Dropout(0.2))\n",
    "model.add(LSTM(units=50))\n",
    "model.add(Dropout(0.2))\n",
    "model.add(Dense(units=1))\n",
    "model.compile(optimizer='adam', loss='mean_squared_error')\n",
    "model.fit(x_train, y_train, epochs=25, batch_size=32)"
   ]
  },
  {
   "cell_type": "code",
   "execution_count": 10,
   "id": "f13cd241-bd68-4aef-8a82-334ca87c0ec7",
   "metadata": {},
   "outputs": [
    {
     "data": {
      "image/png": "[encoded data removed]",
      "text/plain": [
       "<Figure size 432x288 with 3 Axes>"
      ]
     },
     "metadata": {
      "needs_background": "light"
     },
     "output_type": "display_data"
    }
   ],
   "source": [
    "test_start = dt.datetime(2020,1,1)\n",
    "test_end = dt.datetime.now()\n",
    "test_data = web.DataReader(f'{crypto_currency}-{against_currency}', 'yahoo', test_start, test_end)\n",
    "actual_prices = test_data['Close'].values\n",
    "total_dataset = pd.concat((data['Close'], test_data['Close']), axis=0)\n",
    "model_inputs = total_dataset[len(total_dataset) - len(test_data) - prediction_days:].values\n",
    "model_inputs = model_inputs.reshape(-1, 1)\n",
    "model_inputs = scaler.fit_transform(model_inputs)\n",
    "x_test = []\n",
    "\n",
    "for x in range(prediction_days, len(model_inputs)):\n",
    "    x_test.append(model_inputs[x-prediction_days:x, 0])\n",
    "\n",
    "x_test = np.array(x_test)\n",
    "x_test = np.reshape(x_test, (x_test.shape[0], x_test.shape[1], 1))\n",
    "prediction_prices = model.predict(x_test)\n",
    "prediction_prices = scaler.inverse_transform(prediction_prices)\n",
    "\n",
    "#plt.plot(actual_prices, color='black', label='Actual Prices')\n",
    "#plt.plot(prediction_prices, color='green', label='Predicted Prices')\n",
    "#plt.plot(df_NVDA, color = 'blue', label = 'NVDA prices')\n",
    "#plt.title(f'{crypto_currency} price prediction')\n",
    "#plt.xlabel('Time')\n",
    "#plt.ylabel('Price')\n",
    "#plt.legend(loc='upper left')\n",
    "#plt.show\n",
    "\n",
    "fig, ax1 = plt.subplots()\n",
    "\n",
    "ax1.plot(prediction_prices, color='blue', label='Predicted Prices')\n",
    "ax2 = ax1.twinx() \n",
    "ax2.plot(df_NVDA['Close_NVDA'].values, color='green', label='Prices')\n",
    "ax3 = ax2.twinx()\n",
    "ax3.plot(actual_prices, color='black', label='Actual Prices')\n",
    "fig.tight_layout()\n",
    "plt.show()"
   ]
  },
  {
   "cell_type": "code",
   "execution_count": 14,
   "id": "14f6d499-437c-439b-8b23-3b7831e53dc8",
   "metadata": {},
   "outputs": [],
   "source": [
    "from keras.models import Sequential\n",
    "from keras.layers import Dense\n",
    "from keras.utils.vis_utils import plot_model\n",
    "model = Sequential()\n",
    "model.add(Dense(2, input_dim=1, activation='relu'))\n",
    "model.add(Dense(1, activation='sigmoid'))"
   ]
  },
  {
   "cell_type": "code",
   "execution_count": 15,
   "id": "69468a8f-a880-40db-abc7-ed019c82f646",
   "metadata": {},
   "outputs": [
    {
     "data": {
      "image/png": "[encoded data removed]",
      "text/plain": [
       "<IPython.core.display.Image object>"
      ]
     },
     "execution_count": 15,
     "metadata": {},
     "output_type": "execute_result"
    }
   ],
   "source": [
    "plot_model(model, to_file='model_plot.png', show_shapes=True, show_layer_names=True)"
   ]
  },
  {
   "cell_type": "code",
   "execution_count": 13,
   "id": "4ddf49ac-37ee-406c-af49-4881e625848c",
   "metadata": {},
   "outputs": [],
   "source": [
    "# Predict next day\n",
    "#real_data = [model_inputs[len(model_inputs) + 1 - prediction_days:len(model_inputs) + 1, 0]]\n",
    "#real_data = np.array(real_data)\n",
    "#real_data = np.reshape(real_data, (real_data.shape[0], real_data.shape[1], 1))\n",
    "#prediction = model.predict(real_data)\n",
    "#prediction = scaler.inverse_transform(prediction)\n",
    "#print()"
   ]
  }
 ],
 "metadata": {
  "kernelspec": {
   "display_name": "Python 3",
   "language": "python",
   "name": "python3"
  },
  "language_info": {
   "codemirror_mode": {
    "name": "ipython",
    "version": 3
   },
   "file_extension": ".py",
   "mimetype": "text/x-python",
   "name": "python",
   "nbconvert_exporter": "python",
   "pygments_lexer": "ipython3",
   "version": "3.8.8"
  }
 },
 "nbformat": 4,
 "nbformat_minor": 5
}
